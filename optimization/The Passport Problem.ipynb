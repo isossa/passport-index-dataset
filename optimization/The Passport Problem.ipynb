{
 "cells": [
  {
   "cell_type": "markdown",
   "id": "93523dfd",
   "metadata": {},
   "source": [
    "### Disclosure: A tutorial from [jump.dev](https://jump.dev/JuMP.jl/stable/tutorials/getting_started/getting_started_with_data_and_plotting/#Example:-the-passport-problem)"
   ]
  },
  {
   "cell_type": "markdown",
   "id": "66ab6fb9",
   "metadata": {},
   "source": [
    "## Data Cleaning"
   ]
  },
  {
   "cell_type": "code",
   "execution_count": 1,
   "id": "bf0617c0",
   "metadata": {},
   "outputs": [
    {
     "data": {
      "text/plain": [
       "\"C:\\\\Users\\\\isossa\\\\Documents\\\\Mathematical Programming\\\\Passport Index Dataset\\\\passport-index-dataset\\\\data\""
      ]
     },
     "execution_count": 1,
     "metadata": {},
     "output_type": "execute_result"
    }
   ],
   "source": [
    "const DATA_DIR = joinpath(dirname(@__DIR__), \"data\")"
   ]
  },
  {
   "cell_type": "code",
   "execution_count": 2,
   "id": "b04620e6",
   "metadata": {},
   "outputs": [],
   "source": [
    "import DataFrames\n",
    "import CSV"
   ]
  },
  {
   "cell_type": "code",
   "execution_count": 3,
   "id": "03c1d35a",
   "metadata": {
    "scrolled": true
   },
   "outputs": [
    {
     "data": {
      "text/html": [
       "<table class=\"data-frame\"><thead><tr><th></th><th>Passport</th><th>Afghanistan</th><th>Albania</th><th>Algeria</th><th>Andorra</th><th>Angola</th></tr><tr><th></th><th>String</th><th>String</th><th>String</th><th>String</th><th>String</th><th>String</th></tr></thead><tbody><p>199 rows × 200 columns (omitted printing of 194 columns)</p><tr><th>1</th><td>Afghanistan</td><td>-1</td><td>e-visa</td><td>visa required</td><td>visa required</td><td>visa on arrival</td></tr><tr><th>2</th><td>Albania</td><td>visa required</td><td>-1</td><td>visa required</td><td>90</td><td>visa on arrival</td></tr><tr><th>3</th><td>Algeria</td><td>visa required</td><td>e-visa</td><td>-1</td><td>visa required</td><td>visa on arrival</td></tr><tr><th>4</th><td>Andorra</td><td>visa required</td><td>90</td><td>visa required</td><td>-1</td><td>visa on arrival</td></tr><tr><th>5</th><td>Angola</td><td>visa required</td><td>e-visa</td><td>visa required</td><td>visa required</td><td>-1</td></tr><tr><th>6</th><td>Antigua and Barbuda</td><td>visa required</td><td>90</td><td>visa required</td><td>90</td><td>visa on arrival</td></tr><tr><th>7</th><td>Argentina</td><td>visa required</td><td>90</td><td>visa required</td><td>90</td><td>visa on arrival</td></tr><tr><th>8</th><td>Armenia</td><td>visa required</td><td>90</td><td>visa required</td><td>visa required</td><td>visa on arrival</td></tr><tr><th>9</th><td>Australia</td><td>visa required</td><td>90</td><td>visa required</td><td>90</td><td>visa on arrival</td></tr><tr><th>10</th><td>Austria</td><td>visa required</td><td>90</td><td>visa required</td><td>visa free</td><td>visa on arrival</td></tr><tr><th>11</th><td>Azerbaijan</td><td>visa required</td><td>90</td><td>visa required</td><td>visa required</td><td>visa on arrival</td></tr><tr><th>12</th><td>Bahamas</td><td>visa required</td><td>90</td><td>visa required</td><td>90</td><td>visa on arrival</td></tr><tr><th>13</th><td>Bahrain</td><td>visa required</td><td>90</td><td>visa required</td><td>visa required</td><td>visa on arrival</td></tr><tr><th>14</th><td>Bangladesh</td><td>visa required</td><td>e-visa</td><td>visa required</td><td>visa required</td><td>visa on arrival</td></tr><tr><th>15</th><td>Barbados</td><td>visa required</td><td>90</td><td>visa required</td><td>90</td><td>visa on arrival</td></tr><tr><th>16</th><td>Belarus</td><td>visa required</td><td>30</td><td>visa required</td><td>visa required</td><td>visa on arrival</td></tr><tr><th>17</th><td>Belgium</td><td>visa required</td><td>90</td><td>visa required</td><td>visa free</td><td>visa on arrival</td></tr><tr><th>18</th><td>Belize</td><td>visa required</td><td>e-visa</td><td>visa required</td><td>visa required</td><td>visa on arrival</td></tr><tr><th>19</th><td>Benin</td><td>visa required</td><td>e-visa</td><td>visa required</td><td>visa required</td><td>visa on arrival</td></tr><tr><th>20</th><td>Bhutan</td><td>visa required</td><td>e-visa</td><td>visa required</td><td>visa required</td><td>visa on arrival</td></tr><tr><th>21</th><td>Bolivia</td><td>visa required</td><td>e-visa</td><td>visa required</td><td>visa required</td><td>visa on arrival</td></tr><tr><th>22</th><td>Bosnia and Herzegovina</td><td>visa required</td><td>90</td><td>visa required</td><td>90</td><td>visa on arrival</td></tr><tr><th>23</th><td>Botswana</td><td>visa required</td><td>e-visa</td><td>visa required</td><td>visa required</td><td>30</td></tr><tr><th>24</th><td>Brazil</td><td>visa required</td><td>90</td><td>visa required</td><td>90</td><td>visa on arrival</td></tr><tr><th>25</th><td>Brunei</td><td>visa required</td><td>90</td><td>visa required</td><td>90</td><td>visa on arrival</td></tr><tr><th>26</th><td>Bulgaria</td><td>visa required</td><td>90</td><td>visa required</td><td>visa free</td><td>visa on arrival</td></tr><tr><th>27</th><td>Burkina Faso</td><td>visa required</td><td>e-visa</td><td>visa required</td><td>visa required</td><td>visa on arrival</td></tr><tr><th>28</th><td>Burundi</td><td>visa required</td><td>e-visa</td><td>visa required</td><td>visa required</td><td>visa on arrival</td></tr><tr><th>29</th><td>Cambodia</td><td>visa required</td><td>e-visa</td><td>visa required</td><td>visa required</td><td>visa on arrival</td></tr><tr><th>30</th><td>Cameroon</td><td>visa required</td><td>e-visa</td><td>visa required</td><td>visa required</td><td>visa on arrival</td></tr><tr><th>&vellip;</th><td>&vellip;</td><td>&vellip;</td><td>&vellip;</td><td>&vellip;</td><td>&vellip;</td><td>&vellip;</td></tr></tbody></table>"
      ],
      "text/latex": [
       "\\begin{tabular}{r|ccccccc}\n",
       "\t& Passport & Afghanistan & Albania & Algeria & Andorra & Angola & \\\\\n",
       "\t\\hline\n",
       "\t& String & String & String & String & String & String & \\\\\n",
       "\t\\hline\n",
       "\t1 & Afghanistan & -1 & e-visa & visa required & visa required & visa on arrival & $\\dots$ \\\\\n",
       "\t2 & Albania & visa required & -1 & visa required & 90 & visa on arrival & $\\dots$ \\\\\n",
       "\t3 & Algeria & visa required & e-visa & -1 & visa required & visa on arrival & $\\dots$ \\\\\n",
       "\t4 & Andorra & visa required & 90 & visa required & -1 & visa on arrival & $\\dots$ \\\\\n",
       "\t5 & Angola & visa required & e-visa & visa required & visa required & -1 & $\\dots$ \\\\\n",
       "\t6 & Antigua and Barbuda & visa required & 90 & visa required & 90 & visa on arrival & $\\dots$ \\\\\n",
       "\t7 & Argentina & visa required & 90 & visa required & 90 & visa on arrival & $\\dots$ \\\\\n",
       "\t8 & Armenia & visa required & 90 & visa required & visa required & visa on arrival & $\\dots$ \\\\\n",
       "\t9 & Australia & visa required & 90 & visa required & 90 & visa on arrival & $\\dots$ \\\\\n",
       "\t10 & Austria & visa required & 90 & visa required & visa free & visa on arrival & $\\dots$ \\\\\n",
       "\t11 & Azerbaijan & visa required & 90 & visa required & visa required & visa on arrival & $\\dots$ \\\\\n",
       "\t12 & Bahamas & visa required & 90 & visa required & 90 & visa on arrival & $\\dots$ \\\\\n",
       "\t13 & Bahrain & visa required & 90 & visa required & visa required & visa on arrival & $\\dots$ \\\\\n",
       "\t14 & Bangladesh & visa required & e-visa & visa required & visa required & visa on arrival & $\\dots$ \\\\\n",
       "\t15 & Barbados & visa required & 90 & visa required & 90 & visa on arrival & $\\dots$ \\\\\n",
       "\t16 & Belarus & visa required & 30 & visa required & visa required & visa on arrival & $\\dots$ \\\\\n",
       "\t17 & Belgium & visa required & 90 & visa required & visa free & visa on arrival & $\\dots$ \\\\\n",
       "\t18 & Belize & visa required & e-visa & visa required & visa required & visa on arrival & $\\dots$ \\\\\n",
       "\t19 & Benin & visa required & e-visa & visa required & visa required & visa on arrival & $\\dots$ \\\\\n",
       "\t20 & Bhutan & visa required & e-visa & visa required & visa required & visa on arrival & $\\dots$ \\\\\n",
       "\t21 & Bolivia & visa required & e-visa & visa required & visa required & visa on arrival & $\\dots$ \\\\\n",
       "\t22 & Bosnia and Herzegovina & visa required & 90 & visa required & 90 & visa on arrival & $\\dots$ \\\\\n",
       "\t23 & Botswana & visa required & e-visa & visa required & visa required & 30 & $\\dots$ \\\\\n",
       "\t24 & Brazil & visa required & 90 & visa required & 90 & visa on arrival & $\\dots$ \\\\\n",
       "\t25 & Brunei & visa required & 90 & visa required & 90 & visa on arrival & $\\dots$ \\\\\n",
       "\t26 & Bulgaria & visa required & 90 & visa required & visa free & visa on arrival & $\\dots$ \\\\\n",
       "\t27 & Burkina Faso & visa required & e-visa & visa required & visa required & visa on arrival & $\\dots$ \\\\\n",
       "\t28 & Burundi & visa required & e-visa & visa required & visa required & visa on arrival & $\\dots$ \\\\\n",
       "\t29 & Cambodia & visa required & e-visa & visa required & visa required & visa on arrival & $\\dots$ \\\\\n",
       "\t30 & Cameroon & visa required & e-visa & visa required & visa required & visa on arrival & $\\dots$ \\\\\n",
       "\t$\\dots$ & $\\dots$ & $\\dots$ & $\\dots$ & $\\dots$ & $\\dots$ & $\\dots$ &  \\\\\n",
       "\\end{tabular}\n"
      ],
      "text/plain": [
       "199×200 DataFrame. Omitted printing of 196 columns\n",
       "│ Row │ Passport            │ Afghanistan   │ Albania │ Algeria       │\n",
       "│     │ \u001b[90mString\u001b[39m              │ \u001b[90mString\u001b[39m        │ \u001b[90mString\u001b[39m  │ \u001b[90mString\u001b[39m        │\n",
       "├─────┼─────────────────────┼───────────────┼─────────┼───────────────┤\n",
       "│ 1   │ Afghanistan         │ -1            │ e-visa  │ visa required │\n",
       "│ 2   │ Albania             │ visa required │ -1      │ visa required │\n",
       "│ 3   │ Algeria             │ visa required │ e-visa  │ -1            │\n",
       "│ 4   │ Andorra             │ visa required │ 90      │ visa required │\n",
       "│ 5   │ Angola              │ visa required │ e-visa  │ visa required │\n",
       "│ 6   │ Antigua and Barbuda │ visa required │ 90      │ visa required │\n",
       "│ 7   │ Argentina           │ visa required │ 90      │ visa required │\n",
       "│ 8   │ Armenia             │ visa required │ 90      │ visa required │\n",
       "│ 9   │ Australia           │ visa required │ 90      │ visa required │\n",
       "│ 10  │ Austria             │ visa required │ 90      │ visa required │\n",
       "⋮\n",
       "│ 189 │ United Kingdom      │ visa required │ 90      │ visa required │\n",
       "│ 190 │ United States       │ visa required │ 90      │ visa required │\n",
       "│ 191 │ Uruguay             │ visa required │ 90      │ visa required │\n",
       "│ 192 │ Uzbekistan          │ visa required │ e-visa  │ visa required │\n",
       "│ 193 │ Vanuatu             │ visa required │ e-visa  │ visa required │\n",
       "│ 194 │ Vatican             │ visa required │ 90      │ visa required │\n",
       "│ 195 │ Venezuela           │ visa required │ 90      │ visa required │\n",
       "│ 196 │ Vietnam             │ visa required │ e-visa  │ visa required │\n",
       "│ 197 │ Yemen               │ visa required │ e-visa  │ visa required │\n",
       "│ 198 │ Zambia              │ visa required │ e-visa  │ visa required │\n",
       "│ 199 │ Zimbabwe            │ visa required │ e-visa  │ visa required │"
      ]
     },
     "execution_count": 3,
     "metadata": {},
     "output_type": "execute_result"
    }
   ],
   "source": [
    "passport_df = CSV.read(\n",
    "    joinpath(DATA_DIR, \"passport-index-matrix.csv\"), \n",
    "    DataFrames.DataFrame,\n",
    "    missingstring = \"NA\"\n",
    ")"
   ]
  },
  {
   "cell_type": "code",
   "execution_count": 4,
   "id": "309012c2",
   "metadata": {},
   "outputs": [
    {
     "data": {
      "text/plain": [
       "(199, 200)"
      ]
     },
     "execution_count": 4,
     "metadata": {},
     "output_type": "execute_result"
    }
   ],
   "source": [
    "DataFrames.size(passport_df)"
   ]
  },
  {
   "cell_type": "code",
   "execution_count": 5,
   "id": "883d761c",
   "metadata": {},
   "outputs": [
    {
     "data": {
      "text/html": [
       "<table class=\"data-frame\"><thead><tr><th></th><th>variable</th><th>mean</th><th>min</th><th>median</th><th>max</th><th>nunique</th><th>nmissing</th></tr><tr><th></th><th>Symbol</th><th>Union…</th><th>Any</th><th>Union…</th><th>Any</th><th>Union…</th><th>Nothing</th></tr></thead><tbody><p>200 rows × 8 columns (omitted printing of 1 columns)</p><tr><th>1</th><td>Passport</td><td></td><td>Afghanistan</td><td></td><td>Zimbabwe</td><td>199</td><td></td></tr><tr><th>2</th><td>Afghanistan</td><td></td><td>-1</td><td></td><td>visa required</td><td>2</td><td></td></tr><tr><th>3</th><td>Albania</td><td></td><td>-1</td><td></td><td>visa required</td><td>6</td><td></td></tr><tr><th>4</th><td>Algeria</td><td></td><td>-1</td><td></td><td>visa required</td><td>3</td><td></td></tr><tr><th>5</th><td>Andorra</td><td></td><td>-1</td><td></td><td>visa required</td><td>4</td><td></td></tr><tr><th>6</th><td>Angola</td><td></td><td>-1</td><td></td><td>visa on arrival</td><td>4</td><td></td></tr><tr><th>7</th><td>Antigua and Barbuda</td><td></td><td>-1</td><td></td><td>visa free</td><td>6</td><td></td></tr><tr><th>8</th><td>Argentina</td><td></td><td>-1</td><td></td><td>visa required</td><td>4</td><td></td></tr><tr><th>9</th><td>Armenia</td><td></td><td>-1</td><td></td><td>visa required</td><td>7</td><td></td></tr><tr><th>10</th><td>Australia</td><td></td><td>-1</td><td></td><td>visa free</td><td>3</td><td></td></tr><tr><th>11</th><td>Austria</td><td></td><td>-1</td><td></td><td>visa required</td><td>4</td><td></td></tr><tr><th>12</th><td>Azerbaijan</td><td></td><td>-1</td><td></td><td>visa on arrival</td><td>5</td><td></td></tr><tr><th>13</th><td>Bahamas</td><td></td><td>-1</td><td></td><td>visa required</td><td>4</td><td></td></tr><tr><th>14</th><td>Bahrain</td><td></td><td>-1</td><td></td><td>visa required</td><td>5</td><td></td></tr><tr><th>15</th><td>Bangladesh</td><td></td><td>-1</td><td></td><td>covid ban</td><td>3</td><td></td></tr><tr><th>16</th><td>Barbados</td><td></td><td>-1</td><td></td><td>visa required</td><td>7</td><td></td></tr><tr><th>17</th><td>Belarus</td><td></td><td>-1</td><td></td><td>visa required</td><td>5</td><td></td></tr><tr><th>18</th><td>Belgium</td><td></td><td>-1</td><td></td><td>visa required</td><td>4</td><td></td></tr><tr><th>19</th><td>Belize</td><td></td><td>-1</td><td></td><td>visa required</td><td>6</td><td></td></tr><tr><th>20</th><td>Benin</td><td></td><td>-1</td><td></td><td>e-visa</td><td>4</td><td></td></tr><tr><th>21</th><td>Bhutan</td><td></td><td>-1</td><td></td><td>visa required</td><td>3</td><td></td></tr><tr><th>22</th><td>Bolivia</td><td></td><td>-1</td><td></td><td>visa on arrival</td><td>3</td><td></td></tr><tr><th>23</th><td>Bosnia and Herzegovina</td><td></td><td>-1</td><td></td><td>visa required</td><td>4</td><td></td></tr><tr><th>24</th><td>Botswana</td><td></td><td>-1</td><td></td><td>visa required</td><td>4</td><td></td></tr><tr><th>25</th><td>Brazil</td><td></td><td>-1</td><td></td><td>visa required</td><td>5</td><td></td></tr><tr><th>26</th><td>Brunei</td><td></td><td>-1</td><td></td><td>visa required</td><td>7</td><td></td></tr><tr><th>27</th><td>Bulgaria</td><td></td><td>-1</td><td></td><td>visa required</td><td>4</td><td></td></tr><tr><th>28</th><td>Burkina Faso</td><td></td><td>-1</td><td></td><td>visa required</td><td>6</td><td></td></tr><tr><th>29</th><td>Burundi</td><td></td><td>-1</td><td></td><td>visa on arrival</td><td>3</td><td></td></tr><tr><th>30</th><td>Cambodia</td><td></td><td>-1</td><td></td><td>visa free</td><td>5</td><td></td></tr><tr><th>&vellip;</th><td>&vellip;</td><td>&vellip;</td><td>&vellip;</td><td>&vellip;</td><td>&vellip;</td><td>&vellip;</td><td>&vellip;</td></tr></tbody></table>"
      ],
      "text/latex": [
       "\\begin{tabular}{r|cccccccc}\n",
       "\t& variable & mean & min & median & max & nunique & nmissing & \\\\\n",
       "\t\\hline\n",
       "\t& Symbol & Union… & Any & Union… & Any & Union… & Nothing & \\\\\n",
       "\t\\hline\n",
       "\t1 & Passport &  & Afghanistan &  & Zimbabwe & 199 &  & $\\dots$ \\\\\n",
       "\t2 & Afghanistan &  & -1 &  & visa required & 2 &  & $\\dots$ \\\\\n",
       "\t3 & Albania &  & -1 &  & visa required & 6 &  & $\\dots$ \\\\\n",
       "\t4 & Algeria &  & -1 &  & visa required & 3 &  & $\\dots$ \\\\\n",
       "\t5 & Andorra &  & -1 &  & visa required & 4 &  & $\\dots$ \\\\\n",
       "\t6 & Angola &  & -1 &  & visa on arrival & 4 &  & $\\dots$ \\\\\n",
       "\t7 & Antigua and Barbuda &  & -1 &  & visa free & 6 &  & $\\dots$ \\\\\n",
       "\t8 & Argentina &  & -1 &  & visa required & 4 &  & $\\dots$ \\\\\n",
       "\t9 & Armenia &  & -1 &  & visa required & 7 &  & $\\dots$ \\\\\n",
       "\t10 & Australia &  & -1 &  & visa free & 3 &  & $\\dots$ \\\\\n",
       "\t11 & Austria &  & -1 &  & visa required & 4 &  & $\\dots$ \\\\\n",
       "\t12 & Azerbaijan &  & -1 &  & visa on arrival & 5 &  & $\\dots$ \\\\\n",
       "\t13 & Bahamas &  & -1 &  & visa required & 4 &  & $\\dots$ \\\\\n",
       "\t14 & Bahrain &  & -1 &  & visa required & 5 &  & $\\dots$ \\\\\n",
       "\t15 & Bangladesh &  & -1 &  & covid ban & 3 &  & $\\dots$ \\\\\n",
       "\t16 & Barbados &  & -1 &  & visa required & 7 &  & $\\dots$ \\\\\n",
       "\t17 & Belarus &  & -1 &  & visa required & 5 &  & $\\dots$ \\\\\n",
       "\t18 & Belgium &  & -1 &  & visa required & 4 &  & $\\dots$ \\\\\n",
       "\t19 & Belize &  & -1 &  & visa required & 6 &  & $\\dots$ \\\\\n",
       "\t20 & Benin &  & -1 &  & e-visa & 4 &  & $\\dots$ \\\\\n",
       "\t21 & Bhutan &  & -1 &  & visa required & 3 &  & $\\dots$ \\\\\n",
       "\t22 & Bolivia &  & -1 &  & visa on arrival & 3 &  & $\\dots$ \\\\\n",
       "\t23 & Bosnia and Herzegovina &  & -1 &  & visa required & 4 &  & $\\dots$ \\\\\n",
       "\t24 & Botswana &  & -1 &  & visa required & 4 &  & $\\dots$ \\\\\n",
       "\t25 & Brazil &  & -1 &  & visa required & 5 &  & $\\dots$ \\\\\n",
       "\t26 & Brunei &  & -1 &  & visa required & 7 &  & $\\dots$ \\\\\n",
       "\t27 & Bulgaria &  & -1 &  & visa required & 4 &  & $\\dots$ \\\\\n",
       "\t28 & Burkina Faso &  & -1 &  & visa required & 6 &  & $\\dots$ \\\\\n",
       "\t29 & Burundi &  & -1 &  & visa on arrival & 3 &  & $\\dots$ \\\\\n",
       "\t30 & Cambodia &  & -1 &  & visa free & 5 &  & $\\dots$ \\\\\n",
       "\t$\\dots$ & $\\dots$ & $\\dots$ & $\\dots$ & $\\dots$ & $\\dots$ & $\\dots$ & $\\dots$ &  \\\\\n",
       "\\end{tabular}\n"
      ],
      "text/plain": [
       "200×8 DataFrame. Omitted printing of 3 columns\n",
       "│ Row │ variable            │ mean   │ min         │ median │ max             │\n",
       "│     │ \u001b[90mSymbol\u001b[39m              │ \u001b[90mUnion…\u001b[39m │ \u001b[90mAny\u001b[39m         │ \u001b[90mUnion…\u001b[39m │ \u001b[90mAny\u001b[39m             │\n",
       "├─────┼─────────────────────┼────────┼─────────────┼────────┼─────────────────┤\n",
       "│ 1   │ Passport            │        │ Afghanistan │        │ Zimbabwe        │\n",
       "│ 2   │ Afghanistan         │        │ -1          │        │ visa required   │\n",
       "│ 3   │ Albania             │        │ -1          │        │ visa required   │\n",
       "│ 4   │ Algeria             │        │ -1          │        │ visa required   │\n",
       "│ 5   │ Andorra             │        │ -1          │        │ visa required   │\n",
       "│ 6   │ Angola              │        │ -1          │        │ visa on arrival │\n",
       "│ 7   │ Antigua and Barbuda │        │ -1          │        │ visa free       │\n",
       "│ 8   │ Argentina           │        │ -1          │        │ visa required   │\n",
       "│ 9   │ Armenia             │        │ -1          │        │ visa required   │\n",
       "│ 10  │ Australia           │        │ -1          │        │ visa free       │\n",
       "⋮\n",
       "│ 190 │ United Kingdom      │        │ -1          │        │ visa required   │\n",
       "│ 191 │ United States       │        │ -1          │        │ visa required   │\n",
       "│ 192 │ Uruguay             │        │ -1          │        │ visa required   │\n",
       "│ 193 │ Uzbekistan          │        │ -1          │        │ visa free       │\n",
       "│ 194 │ Vanuatu             │        │ -1          │        │ covid ban       │\n",
       "│ 195 │ Vatican             │        │ -1          │        │ visa required   │\n",
       "│ 196 │ Venezuela           │        │ -1          │        │ visa required   │\n",
       "│ 197 │ Vietnam             │        │ -1          │        │ visa required   │\n",
       "│ 198 │ Yemen               │        │ -1          │        │ visa required   │\n",
       "│ 199 │ Zambia              │        │ -1          │        │ visa on arrival │\n",
       "│ 200 │ Zimbabwe            │        │ -1          │        │ visa on arrival │"
      ]
     },
     "execution_count": 5,
     "metadata": {},
     "output_type": "execute_result"
    }
   ],
   "source": [
    "DataFrames.describe(passport_df)"
   ]
  },
  {
   "cell_type": "code",
   "execution_count": 6,
   "id": "a87e2abe",
   "metadata": {},
   "outputs": [
    {
     "data": {
      "text/plain": [
       "200-element Vector{String}:\n",
       " \"Passport\"\n",
       " \"Afghanistan\"\n",
       " \"Albania\"\n",
       " \"Algeria\"\n",
       " \"Andorra\"\n",
       " \"Angola\"\n",
       " \"Antigua and Barbuda\"\n",
       " \"Argentina\"\n",
       " \"Armenia\"\n",
       " \"Australia\"\n",
       " \"Austria\"\n",
       " \"Azerbaijan\"\n",
       " \"Bahamas\"\n",
       " ⋮\n",
       " \"United Arab Emirates\"\n",
       " \"United Kingdom\"\n",
       " \"United States\"\n",
       " \"Uruguay\"\n",
       " \"Uzbekistan\"\n",
       " \"Vanuatu\"\n",
       " \"Vatican\"\n",
       " \"Venezuela\"\n",
       " \"Vietnam\"\n",
       " \"Yemen\"\n",
       " \"Zambia\"\n",
       " \"Zimbabwe\""
      ]
     },
     "execution_count": 6,
     "metadata": {},
     "output_type": "execute_result"
    }
   ],
   "source": [
    "DataFrames.names(passport_df)"
   ]
  },
  {
   "cell_type": "code",
   "execution_count": 7,
   "id": "b7120eb7",
   "metadata": {},
   "outputs": [
    {
     "data": {
      "text/html": [
       "<table class=\"data-frame\"><thead><tr><th></th><th>Passport</th><th>Afghanistan</th><th>Albania</th><th>Algeria</th><th>Andorra</th><th>Angola</th><th>Antigua and Barbuda</th></tr><tr><th></th><th>DataType</th><th>DataType</th><th>DataType</th><th>DataType</th><th>DataType</th><th>DataType</th><th>DataType</th></tr></thead><tbody><p>199 rows × 200 columns (omitted printing of 193 columns)</p><tr><th>1</th><td>Char</td><td>Char</td><td>Char</td><td>Char</td><td>Char</td><td>Char</td><td>Char</td></tr><tr><th>2</th><td>Char</td><td>Char</td><td>Char</td><td>Char</td><td>Char</td><td>Char</td><td>Char</td></tr><tr><th>3</th><td>Char</td><td>Char</td><td>Char</td><td>Char</td><td>Char</td><td>Char</td><td>Char</td></tr><tr><th>4</th><td>Char</td><td>Char</td><td>Char</td><td>Char</td><td>Char</td><td>Char</td><td>Char</td></tr><tr><th>5</th><td>Char</td><td>Char</td><td>Char</td><td>Char</td><td>Char</td><td>Char</td><td>Char</td></tr><tr><th>6</th><td>Char</td><td>Char</td><td>Char</td><td>Char</td><td>Char</td><td>Char</td><td>Char</td></tr><tr><th>7</th><td>Char</td><td>Char</td><td>Char</td><td>Char</td><td>Char</td><td>Char</td><td>Char</td></tr><tr><th>8</th><td>Char</td><td>Char</td><td>Char</td><td>Char</td><td>Char</td><td>Char</td><td>Char</td></tr><tr><th>9</th><td>Char</td><td>Char</td><td>Char</td><td>Char</td><td>Char</td><td>Char</td><td>Char</td></tr><tr><th>10</th><td>Char</td><td>Char</td><td>Char</td><td>Char</td><td>Char</td><td>Char</td><td>Char</td></tr><tr><th>11</th><td>Char</td><td>Char</td><td>Char</td><td>Char</td><td>Char</td><td>Char</td><td>Char</td></tr><tr><th>12</th><td>Char</td><td>Char</td><td>Char</td><td>Char</td><td>Char</td><td>Char</td><td>Char</td></tr><tr><th>13</th><td>Char</td><td>Char</td><td>Char</td><td>Char</td><td>Char</td><td>Char</td><td>Char</td></tr><tr><th>14</th><td>Char</td><td>Char</td><td>Char</td><td>Char</td><td>Char</td><td>Char</td><td>Char</td></tr><tr><th>15</th><td>Char</td><td>Char</td><td>Char</td><td>Char</td><td>Char</td><td>Char</td><td>Char</td></tr><tr><th>16</th><td>Char</td><td>Char</td><td>Char</td><td>Char</td><td>Char</td><td>Char</td><td>Char</td></tr><tr><th>17</th><td>Char</td><td>Char</td><td>Char</td><td>Char</td><td>Char</td><td>Char</td><td>Char</td></tr><tr><th>18</th><td>Char</td><td>Char</td><td>Char</td><td>Char</td><td>Char</td><td>Char</td><td>Char</td></tr><tr><th>19</th><td>Char</td><td>Char</td><td>Char</td><td>Char</td><td>Char</td><td>Char</td><td>Char</td></tr><tr><th>20</th><td>Char</td><td>Char</td><td>Char</td><td>Char</td><td>Char</td><td>Char</td><td>Char</td></tr><tr><th>21</th><td>Char</td><td>Char</td><td>Char</td><td>Char</td><td>Char</td><td>Char</td><td>Char</td></tr><tr><th>22</th><td>Char</td><td>Char</td><td>Char</td><td>Char</td><td>Char</td><td>Char</td><td>Char</td></tr><tr><th>23</th><td>Char</td><td>Char</td><td>Char</td><td>Char</td><td>Char</td><td>Char</td><td>Char</td></tr><tr><th>24</th><td>Char</td><td>Char</td><td>Char</td><td>Char</td><td>Char</td><td>Char</td><td>Char</td></tr><tr><th>25</th><td>Char</td><td>Char</td><td>Char</td><td>Char</td><td>Char</td><td>Char</td><td>Char</td></tr><tr><th>26</th><td>Char</td><td>Char</td><td>Char</td><td>Char</td><td>Char</td><td>Char</td><td>Char</td></tr><tr><th>27</th><td>Char</td><td>Char</td><td>Char</td><td>Char</td><td>Char</td><td>Char</td><td>Char</td></tr><tr><th>28</th><td>Char</td><td>Char</td><td>Char</td><td>Char</td><td>Char</td><td>Char</td><td>Char</td></tr><tr><th>29</th><td>Char</td><td>Char</td><td>Char</td><td>Char</td><td>Char</td><td>Char</td><td>Char</td></tr><tr><th>30</th><td>Char</td><td>Char</td><td>Char</td><td>Char</td><td>Char</td><td>Char</td><td>Char</td></tr><tr><th>&vellip;</th><td>&vellip;</td><td>&vellip;</td><td>&vellip;</td><td>&vellip;</td><td>&vellip;</td><td>&vellip;</td><td>&vellip;</td></tr></tbody></table>"
      ],
      "text/latex": [
       "\\begin{tabular}{r|cccccccc}\n",
       "\t& Passport & Afghanistan & Albania & Algeria & Andorra & Angola & Antigua and Barbuda & \\\\\n",
       "\t\\hline\n",
       "\t& DataType & DataType & DataType & DataType & DataType & DataType & DataType & \\\\\n",
       "\t\\hline\n",
       "\t1 & Char & Char & Char & Char & Char & Char & Char & $\\dots$ \\\\\n",
       "\t2 & Char & Char & Char & Char & Char & Char & Char & $\\dots$ \\\\\n",
       "\t3 & Char & Char & Char & Char & Char & Char & Char & $\\dots$ \\\\\n",
       "\t4 & Char & Char & Char & Char & Char & Char & Char & $\\dots$ \\\\\n",
       "\t5 & Char & Char & Char & Char & Char & Char & Char & $\\dots$ \\\\\n",
       "\t6 & Char & Char & Char & Char & Char & Char & Char & $\\dots$ \\\\\n",
       "\t7 & Char & Char & Char & Char & Char & Char & Char & $\\dots$ \\\\\n",
       "\t8 & Char & Char & Char & Char & Char & Char & Char & $\\dots$ \\\\\n",
       "\t9 & Char & Char & Char & Char & Char & Char & Char & $\\dots$ \\\\\n",
       "\t10 & Char & Char & Char & Char & Char & Char & Char & $\\dots$ \\\\\n",
       "\t11 & Char & Char & Char & Char & Char & Char & Char & $\\dots$ \\\\\n",
       "\t12 & Char & Char & Char & Char & Char & Char & Char & $\\dots$ \\\\\n",
       "\t13 & Char & Char & Char & Char & Char & Char & Char & $\\dots$ \\\\\n",
       "\t14 & Char & Char & Char & Char & Char & Char & Char & $\\dots$ \\\\\n",
       "\t15 & Char & Char & Char & Char & Char & Char & Char & $\\dots$ \\\\\n",
       "\t16 & Char & Char & Char & Char & Char & Char & Char & $\\dots$ \\\\\n",
       "\t17 & Char & Char & Char & Char & Char & Char & Char & $\\dots$ \\\\\n",
       "\t18 & Char & Char & Char & Char & Char & Char & Char & $\\dots$ \\\\\n",
       "\t19 & Char & Char & Char & Char & Char & Char & Char & $\\dots$ \\\\\n",
       "\t20 & Char & Char & Char & Char & Char & Char & Char & $\\dots$ \\\\\n",
       "\t21 & Char & Char & Char & Char & Char & Char & Char & $\\dots$ \\\\\n",
       "\t22 & Char & Char & Char & Char & Char & Char & Char & $\\dots$ \\\\\n",
       "\t23 & Char & Char & Char & Char & Char & Char & Char & $\\dots$ \\\\\n",
       "\t24 & Char & Char & Char & Char & Char & Char & Char & $\\dots$ \\\\\n",
       "\t25 & Char & Char & Char & Char & Char & Char & Char & $\\dots$ \\\\\n",
       "\t26 & Char & Char & Char & Char & Char & Char & Char & $\\dots$ \\\\\n",
       "\t27 & Char & Char & Char & Char & Char & Char & Char & $\\dots$ \\\\\n",
       "\t28 & Char & Char & Char & Char & Char & Char & Char & $\\dots$ \\\\\n",
       "\t29 & Char & Char & Char & Char & Char & Char & Char & $\\dots$ \\\\\n",
       "\t30 & Char & Char & Char & Char & Char & Char & Char & $\\dots$ \\\\\n",
       "\t$\\dots$ & $\\dots$ & $\\dots$ & $\\dots$ & $\\dots$ & $\\dots$ & $\\dots$ & $\\dots$ &  \\\\\n",
       "\\end{tabular}\n"
      ],
      "text/plain": [
       "199×200 DataFrame. Omitted printing of 194 columns\n",
       "│ Row │ Passport │ Afghanistan │ Albania  │ Algeria  │ Andorra  │ Angola   │\n",
       "│     │ \u001b[90mDataType\u001b[39m │ \u001b[90mDataType\u001b[39m    │ \u001b[90mDataType\u001b[39m │ \u001b[90mDataType\u001b[39m │ \u001b[90mDataType\u001b[39m │ \u001b[90mDataType\u001b[39m │\n",
       "├─────┼──────────┼─────────────┼──────────┼──────────┼──────────┼──────────┤\n",
       "│ 1   │ Char     │ Char        │ Char     │ Char     │ Char     │ Char     │\n",
       "│ 2   │ Char     │ Char        │ Char     │ Char     │ Char     │ Char     │\n",
       "│ 3   │ Char     │ Char        │ Char     │ Char     │ Char     │ Char     │\n",
       "│ 4   │ Char     │ Char        │ Char     │ Char     │ Char     │ Char     │\n",
       "│ 5   │ Char     │ Char        │ Char     │ Char     │ Char     │ Char     │\n",
       "│ 6   │ Char     │ Char        │ Char     │ Char     │ Char     │ Char     │\n",
       "│ 7   │ Char     │ Char        │ Char     │ Char     │ Char     │ Char     │\n",
       "│ 8   │ Char     │ Char        │ Char     │ Char     │ Char     │ Char     │\n",
       "│ 9   │ Char     │ Char        │ Char     │ Char     │ Char     │ Char     │\n",
       "│ 10  │ Char     │ Char        │ Char     │ Char     │ Char     │ Char     │\n",
       "⋮\n",
       "│ 189 │ Char     │ Char        │ Char     │ Char     │ Char     │ Char     │\n",
       "│ 190 │ Char     │ Char        │ Char     │ Char     │ Char     │ Char     │\n",
       "│ 191 │ Char     │ Char        │ Char     │ Char     │ Char     │ Char     │\n",
       "│ 192 │ Char     │ Char        │ Char     │ Char     │ Char     │ Char     │\n",
       "│ 193 │ Char     │ Char        │ Char     │ Char     │ Char     │ Char     │\n",
       "│ 194 │ Char     │ Char        │ Char     │ Char     │ Char     │ Char     │\n",
       "│ 195 │ Char     │ Char        │ Char     │ Char     │ Char     │ Char     │\n",
       "│ 196 │ Char     │ Char        │ Char     │ Char     │ Char     │ Char     │\n",
       "│ 197 │ Char     │ Char        │ Char     │ Char     │ Char     │ Char     │\n",
       "│ 198 │ Char     │ Char        │ Char     │ Char     │ Char     │ Char     │\n",
       "│ 199 │ Char     │ Char        │ Char     │ Char     │ Char     │ Char     │"
      ]
     },
     "execution_count": 7,
     "metadata": {},
     "output_type": "execute_result"
    }
   ],
   "source": [
    "eltype.(passport_df)"
   ]
  },
  {
   "cell_type": "code",
   "execution_count": 8,
   "id": "503e174f",
   "metadata": {},
   "outputs": [
    {
     "data": {
      "text/plain": [
       "converter (generic function with 1 method)"
      ]
     },
     "execution_count": 8,
     "metadata": {},
     "output_type": "execute_result"
    }
   ],
   "source": [
    "function converter(x)\n",
    "    try\n",
    "        return parse(Int64, x)\n",
    "    catch\n",
    "        return if isa(x, String) x end\n",
    "    end\n",
    "end"
   ]
  },
  {
   "cell_type": "code",
   "execution_count": 9,
   "id": "63b0e19e",
   "metadata": {},
   "outputs": [
    {
     "data": {
      "text/plain": [
       "modifier (generic function with 1 method)"
      ]
     },
     "execution_count": 9,
     "metadata": {},
     "output_type": "execute_result"
    }
   ],
   "source": [
    "function modifier(x)\n",
    "    if isa(x, Int)\n",
    "        return 1\n",
    "    elseif x in [\"visa free\", \"visa on arrival\"]\n",
    "        return 1\n",
    "    else\n",
    "        return 0\n",
    "    end\n",
    "end"
   ]
  },
  {
   "cell_type": "code",
   "execution_count": 10,
   "id": "4bd80415",
   "metadata": {},
   "outputs": [],
   "source": [
    "for country in passport_df.Passport\n",
    "    passport_df[!, country] = converter.(passport_df[!, country])\n",
    "end"
   ]
  },
  {
   "cell_type": "code",
   "execution_count": 11,
   "id": "9d35c159",
   "metadata": {},
   "outputs": [
    {
     "data": {
      "text/html": [
       "<table class=\"data-frame\"><thead><tr><th></th><th>Passport</th><th>Afghanistan</th><th>Albania</th><th>Algeria</th><th>Andorra</th><th>Angola</th></tr><tr><th></th><th>String</th><th>Any</th><th>Any</th><th>Any</th><th>Any</th><th>Any</th></tr></thead><tbody><p>199 rows × 200 columns (omitted printing of 194 columns)</p><tr><th>1</th><td>Afghanistan</td><td>-1</td><td>e-visa</td><td>visa required</td><td>visa required</td><td>visa on arrival</td></tr><tr><th>2</th><td>Albania</td><td>visa required</td><td>-1</td><td>visa required</td><td>90</td><td>visa on arrival</td></tr><tr><th>3</th><td>Algeria</td><td>visa required</td><td>e-visa</td><td>-1</td><td>visa required</td><td>visa on arrival</td></tr><tr><th>4</th><td>Andorra</td><td>visa required</td><td>90</td><td>visa required</td><td>-1</td><td>visa on arrival</td></tr><tr><th>5</th><td>Angola</td><td>visa required</td><td>e-visa</td><td>visa required</td><td>visa required</td><td>-1</td></tr><tr><th>6</th><td>Antigua and Barbuda</td><td>visa required</td><td>90</td><td>visa required</td><td>90</td><td>visa on arrival</td></tr><tr><th>7</th><td>Argentina</td><td>visa required</td><td>90</td><td>visa required</td><td>90</td><td>visa on arrival</td></tr><tr><th>8</th><td>Armenia</td><td>visa required</td><td>90</td><td>visa required</td><td>visa required</td><td>visa on arrival</td></tr><tr><th>9</th><td>Australia</td><td>visa required</td><td>90</td><td>visa required</td><td>90</td><td>visa on arrival</td></tr><tr><th>10</th><td>Austria</td><td>visa required</td><td>90</td><td>visa required</td><td>visa free</td><td>visa on arrival</td></tr><tr><th>11</th><td>Azerbaijan</td><td>visa required</td><td>90</td><td>visa required</td><td>visa required</td><td>visa on arrival</td></tr><tr><th>12</th><td>Bahamas</td><td>visa required</td><td>90</td><td>visa required</td><td>90</td><td>visa on arrival</td></tr><tr><th>13</th><td>Bahrain</td><td>visa required</td><td>90</td><td>visa required</td><td>visa required</td><td>visa on arrival</td></tr><tr><th>14</th><td>Bangladesh</td><td>visa required</td><td>e-visa</td><td>visa required</td><td>visa required</td><td>visa on arrival</td></tr><tr><th>15</th><td>Barbados</td><td>visa required</td><td>90</td><td>visa required</td><td>90</td><td>visa on arrival</td></tr><tr><th>16</th><td>Belarus</td><td>visa required</td><td>30</td><td>visa required</td><td>visa required</td><td>visa on arrival</td></tr><tr><th>17</th><td>Belgium</td><td>visa required</td><td>90</td><td>visa required</td><td>visa free</td><td>visa on arrival</td></tr><tr><th>18</th><td>Belize</td><td>visa required</td><td>e-visa</td><td>visa required</td><td>visa required</td><td>visa on arrival</td></tr><tr><th>19</th><td>Benin</td><td>visa required</td><td>e-visa</td><td>visa required</td><td>visa required</td><td>visa on arrival</td></tr><tr><th>20</th><td>Bhutan</td><td>visa required</td><td>e-visa</td><td>visa required</td><td>visa required</td><td>visa on arrival</td></tr><tr><th>21</th><td>Bolivia</td><td>visa required</td><td>e-visa</td><td>visa required</td><td>visa required</td><td>visa on arrival</td></tr><tr><th>22</th><td>Bosnia and Herzegovina</td><td>visa required</td><td>90</td><td>visa required</td><td>90</td><td>visa on arrival</td></tr><tr><th>23</th><td>Botswana</td><td>visa required</td><td>e-visa</td><td>visa required</td><td>visa required</td><td>30</td></tr><tr><th>24</th><td>Brazil</td><td>visa required</td><td>90</td><td>visa required</td><td>90</td><td>visa on arrival</td></tr><tr><th>25</th><td>Brunei</td><td>visa required</td><td>90</td><td>visa required</td><td>90</td><td>visa on arrival</td></tr><tr><th>26</th><td>Bulgaria</td><td>visa required</td><td>90</td><td>visa required</td><td>visa free</td><td>visa on arrival</td></tr><tr><th>27</th><td>Burkina Faso</td><td>visa required</td><td>e-visa</td><td>visa required</td><td>visa required</td><td>visa on arrival</td></tr><tr><th>28</th><td>Burundi</td><td>visa required</td><td>e-visa</td><td>visa required</td><td>visa required</td><td>visa on arrival</td></tr><tr><th>29</th><td>Cambodia</td><td>visa required</td><td>e-visa</td><td>visa required</td><td>visa required</td><td>visa on arrival</td></tr><tr><th>30</th><td>Cameroon</td><td>visa required</td><td>e-visa</td><td>visa required</td><td>visa required</td><td>visa on arrival</td></tr><tr><th>&vellip;</th><td>&vellip;</td><td>&vellip;</td><td>&vellip;</td><td>&vellip;</td><td>&vellip;</td><td>&vellip;</td></tr></tbody></table>"
      ],
      "text/latex": [
       "\\begin{tabular}{r|ccccccc}\n",
       "\t& Passport & Afghanistan & Albania & Algeria & Andorra & Angola & \\\\\n",
       "\t\\hline\n",
       "\t& String & Any & Any & Any & Any & Any & \\\\\n",
       "\t\\hline\n",
       "\t1 & Afghanistan & -1 & e-visa & visa required & visa required & visa on arrival & $\\dots$ \\\\\n",
       "\t2 & Albania & visa required & -1 & visa required & 90 & visa on arrival & $\\dots$ \\\\\n",
       "\t3 & Algeria & visa required & e-visa & -1 & visa required & visa on arrival & $\\dots$ \\\\\n",
       "\t4 & Andorra & visa required & 90 & visa required & -1 & visa on arrival & $\\dots$ \\\\\n",
       "\t5 & Angola & visa required & e-visa & visa required & visa required & -1 & $\\dots$ \\\\\n",
       "\t6 & Antigua and Barbuda & visa required & 90 & visa required & 90 & visa on arrival & $\\dots$ \\\\\n",
       "\t7 & Argentina & visa required & 90 & visa required & 90 & visa on arrival & $\\dots$ \\\\\n",
       "\t8 & Armenia & visa required & 90 & visa required & visa required & visa on arrival & $\\dots$ \\\\\n",
       "\t9 & Australia & visa required & 90 & visa required & 90 & visa on arrival & $\\dots$ \\\\\n",
       "\t10 & Austria & visa required & 90 & visa required & visa free & visa on arrival & $\\dots$ \\\\\n",
       "\t11 & Azerbaijan & visa required & 90 & visa required & visa required & visa on arrival & $\\dots$ \\\\\n",
       "\t12 & Bahamas & visa required & 90 & visa required & 90 & visa on arrival & $\\dots$ \\\\\n",
       "\t13 & Bahrain & visa required & 90 & visa required & visa required & visa on arrival & $\\dots$ \\\\\n",
       "\t14 & Bangladesh & visa required & e-visa & visa required & visa required & visa on arrival & $\\dots$ \\\\\n",
       "\t15 & Barbados & visa required & 90 & visa required & 90 & visa on arrival & $\\dots$ \\\\\n",
       "\t16 & Belarus & visa required & 30 & visa required & visa required & visa on arrival & $\\dots$ \\\\\n",
       "\t17 & Belgium & visa required & 90 & visa required & visa free & visa on arrival & $\\dots$ \\\\\n",
       "\t18 & Belize & visa required & e-visa & visa required & visa required & visa on arrival & $\\dots$ \\\\\n",
       "\t19 & Benin & visa required & e-visa & visa required & visa required & visa on arrival & $\\dots$ \\\\\n",
       "\t20 & Bhutan & visa required & e-visa & visa required & visa required & visa on arrival & $\\dots$ \\\\\n",
       "\t21 & Bolivia & visa required & e-visa & visa required & visa required & visa on arrival & $\\dots$ \\\\\n",
       "\t22 & Bosnia and Herzegovina & visa required & 90 & visa required & 90 & visa on arrival & $\\dots$ \\\\\n",
       "\t23 & Botswana & visa required & e-visa & visa required & visa required & 30 & $\\dots$ \\\\\n",
       "\t24 & Brazil & visa required & 90 & visa required & 90 & visa on arrival & $\\dots$ \\\\\n",
       "\t25 & Brunei & visa required & 90 & visa required & 90 & visa on arrival & $\\dots$ \\\\\n",
       "\t26 & Bulgaria & visa required & 90 & visa required & visa free & visa on arrival & $\\dots$ \\\\\n",
       "\t27 & Burkina Faso & visa required & e-visa & visa required & visa required & visa on arrival & $\\dots$ \\\\\n",
       "\t28 & Burundi & visa required & e-visa & visa required & visa required & visa on arrival & $\\dots$ \\\\\n",
       "\t29 & Cambodia & visa required & e-visa & visa required & visa required & visa on arrival & $\\dots$ \\\\\n",
       "\t30 & Cameroon & visa required & e-visa & visa required & visa required & visa on arrival & $\\dots$ \\\\\n",
       "\t$\\dots$ & $\\dots$ & $\\dots$ & $\\dots$ & $\\dots$ & $\\dots$ & $\\dots$ &  \\\\\n",
       "\\end{tabular}\n"
      ],
      "text/plain": [
       "199×200 DataFrame. Omitted printing of 196 columns\n",
       "│ Row │ Passport            │ Afghanistan   │ Albania │ Algeria       │\n",
       "│     │ \u001b[90mString\u001b[39m              │ \u001b[90mAny\u001b[39m           │ \u001b[90mAny\u001b[39m     │ \u001b[90mAny\u001b[39m           │\n",
       "├─────┼─────────────────────┼───────────────┼─────────┼───────────────┤\n",
       "│ 1   │ Afghanistan         │ -1            │ e-visa  │ visa required │\n",
       "│ 2   │ Albania             │ visa required │ -1      │ visa required │\n",
       "│ 3   │ Algeria             │ visa required │ e-visa  │ -1            │\n",
       "│ 4   │ Andorra             │ visa required │ 90      │ visa required │\n",
       "│ 5   │ Angola              │ visa required │ e-visa  │ visa required │\n",
       "│ 6   │ Antigua and Barbuda │ visa required │ 90      │ visa required │\n",
       "│ 7   │ Argentina           │ visa required │ 90      │ visa required │\n",
       "│ 8   │ Armenia             │ visa required │ 90      │ visa required │\n",
       "│ 9   │ Australia           │ visa required │ 90      │ visa required │\n",
       "│ 10  │ Austria             │ visa required │ 90      │ visa required │\n",
       "⋮\n",
       "│ 189 │ United Kingdom      │ visa required │ 90      │ visa required │\n",
       "│ 190 │ United States       │ visa required │ 90      │ visa required │\n",
       "│ 191 │ Uruguay             │ visa required │ 90      │ visa required │\n",
       "│ 192 │ Uzbekistan          │ visa required │ e-visa  │ visa required │\n",
       "│ 193 │ Vanuatu             │ visa required │ e-visa  │ visa required │\n",
       "│ 194 │ Vatican             │ visa required │ 90      │ visa required │\n",
       "│ 195 │ Venezuela           │ visa required │ 90      │ visa required │\n",
       "│ 196 │ Vietnam             │ visa required │ e-visa  │ visa required │\n",
       "│ 197 │ Yemen               │ visa required │ e-visa  │ visa required │\n",
       "│ 198 │ Zambia              │ visa required │ e-visa  │ visa required │\n",
       "│ 199 │ Zimbabwe            │ visa required │ e-visa  │ visa required │"
      ]
     },
     "execution_count": 11,
     "metadata": {},
     "output_type": "execute_result"
    }
   ],
   "source": [
    "passport_df"
   ]
  },
  {
   "cell_type": "code",
   "execution_count": 12,
   "id": "f7bd343e",
   "metadata": {},
   "outputs": [],
   "source": [
    "for country in passport_df.Passport\n",
    "    passport_df[!, country] = modifier.(passport_df[!, country])\n",
    "end"
   ]
  },
  {
   "cell_type": "code",
   "execution_count": 13,
   "id": "57d42bb3",
   "metadata": {
    "scrolled": true
   },
   "outputs": [
    {
     "data": {
      "text/html": [
       "<table class=\"data-frame\"><thead><tr><th></th><th>Passport</th><th>Afghanistan</th><th>Albania</th><th>Algeria</th><th>Andorra</th><th>Angola</th><th>Antigua and Barbuda</th></tr><tr><th></th><th>String</th><th>Int64</th><th>Int64</th><th>Int64</th><th>Int64</th><th>Int64</th><th>Int64</th></tr></thead><tbody><p>20 rows × 200 columns (omitted printing of 193 columns)</p><tr><th>1</th><td>Afghanistan</td><td>1</td><td>0</td><td>0</td><td>0</td><td>1</td><td>0</td></tr><tr><th>2</th><td>Albania</td><td>0</td><td>1</td><td>0</td><td>1</td><td>1</td><td>1</td></tr><tr><th>3</th><td>Algeria</td><td>0</td><td>0</td><td>1</td><td>0</td><td>1</td><td>0</td></tr><tr><th>4</th><td>Andorra</td><td>0</td><td>1</td><td>0</td><td>1</td><td>1</td><td>1</td></tr><tr><th>5</th><td>Angola</td><td>0</td><td>0</td><td>0</td><td>0</td><td>1</td><td>0</td></tr><tr><th>6</th><td>Antigua and Barbuda</td><td>0</td><td>1</td><td>0</td><td>1</td><td>1</td><td>1</td></tr><tr><th>7</th><td>Argentina</td><td>0</td><td>1</td><td>0</td><td>1</td><td>1</td><td>1</td></tr><tr><th>8</th><td>Armenia</td><td>0</td><td>1</td><td>0</td><td>0</td><td>1</td><td>1</td></tr><tr><th>9</th><td>Australia</td><td>0</td><td>1</td><td>0</td><td>1</td><td>1</td><td>1</td></tr><tr><th>10</th><td>Austria</td><td>0</td><td>1</td><td>0</td><td>1</td><td>1</td><td>1</td></tr><tr><th>11</th><td>Azerbaijan</td><td>0</td><td>1</td><td>0</td><td>0</td><td>1</td><td>1</td></tr><tr><th>12</th><td>Bahamas</td><td>0</td><td>1</td><td>0</td><td>1</td><td>1</td><td>1</td></tr><tr><th>13</th><td>Bahrain</td><td>0</td><td>1</td><td>0</td><td>0</td><td>1</td><td>0</td></tr><tr><th>14</th><td>Bangladesh</td><td>0</td><td>0</td><td>0</td><td>0</td><td>1</td><td>0</td></tr><tr><th>15</th><td>Barbados</td><td>0</td><td>1</td><td>0</td><td>1</td><td>1</td><td>1</td></tr><tr><th>16</th><td>Belarus</td><td>0</td><td>1</td><td>0</td><td>0</td><td>1</td><td>1</td></tr><tr><th>17</th><td>Belgium</td><td>0</td><td>1</td><td>0</td><td>1</td><td>1</td><td>1</td></tr><tr><th>18</th><td>Belize</td><td>0</td><td>0</td><td>0</td><td>0</td><td>1</td><td>1</td></tr><tr><th>19</th><td>Benin</td><td>0</td><td>0</td><td>0</td><td>0</td><td>1</td><td>0</td></tr><tr><th>20</th><td>Bhutan</td><td>0</td><td>0</td><td>0</td><td>0</td><td>1</td><td>0</td></tr></tbody></table>"
      ],
      "text/latex": [
       "\\begin{tabular}{r|cccccccc}\n",
       "\t& Passport & Afghanistan & Albania & Algeria & Andorra & Angola & Antigua and Barbuda & \\\\\n",
       "\t\\hline\n",
       "\t& String & Int64 & Int64 & Int64 & Int64 & Int64 & Int64 & \\\\\n",
       "\t\\hline\n",
       "\t1 & Afghanistan & 1 & 0 & 0 & 0 & 1 & 0 & $\\dots$ \\\\\n",
       "\t2 & Albania & 0 & 1 & 0 & 1 & 1 & 1 & $\\dots$ \\\\\n",
       "\t3 & Algeria & 0 & 0 & 1 & 0 & 1 & 0 & $\\dots$ \\\\\n",
       "\t4 & Andorra & 0 & 1 & 0 & 1 & 1 & 1 & $\\dots$ \\\\\n",
       "\t5 & Angola & 0 & 0 & 0 & 0 & 1 & 0 & $\\dots$ \\\\\n",
       "\t6 & Antigua and Barbuda & 0 & 1 & 0 & 1 & 1 & 1 & $\\dots$ \\\\\n",
       "\t7 & Argentina & 0 & 1 & 0 & 1 & 1 & 1 & $\\dots$ \\\\\n",
       "\t8 & Armenia & 0 & 1 & 0 & 0 & 1 & 1 & $\\dots$ \\\\\n",
       "\t9 & Australia & 0 & 1 & 0 & 1 & 1 & 1 & $\\dots$ \\\\\n",
       "\t10 & Austria & 0 & 1 & 0 & 1 & 1 & 1 & $\\dots$ \\\\\n",
       "\t11 & Azerbaijan & 0 & 1 & 0 & 0 & 1 & 1 & $\\dots$ \\\\\n",
       "\t12 & Bahamas & 0 & 1 & 0 & 1 & 1 & 1 & $\\dots$ \\\\\n",
       "\t13 & Bahrain & 0 & 1 & 0 & 0 & 1 & 0 & $\\dots$ \\\\\n",
       "\t14 & Bangladesh & 0 & 0 & 0 & 0 & 1 & 0 & $\\dots$ \\\\\n",
       "\t15 & Barbados & 0 & 1 & 0 & 1 & 1 & 1 & $\\dots$ \\\\\n",
       "\t16 & Belarus & 0 & 1 & 0 & 0 & 1 & 1 & $\\dots$ \\\\\n",
       "\t17 & Belgium & 0 & 1 & 0 & 1 & 1 & 1 & $\\dots$ \\\\\n",
       "\t18 & Belize & 0 & 0 & 0 & 0 & 1 & 1 & $\\dots$ \\\\\n",
       "\t19 & Benin & 0 & 0 & 0 & 0 & 1 & 0 & $\\dots$ \\\\\n",
       "\t20 & Bhutan & 0 & 0 & 0 & 0 & 1 & 0 & $\\dots$ \\\\\n",
       "\\end{tabular}\n"
      ],
      "text/plain": [
       "20×200 DataFrame. Omitted printing of 195 columns\n",
       "│ Row │ Passport            │ Afghanistan │ Albania │ Algeria │ Andorra │\n",
       "│     │ \u001b[90mString\u001b[39m              │ \u001b[90mInt64\u001b[39m       │ \u001b[90mInt64\u001b[39m   │ \u001b[90mInt64\u001b[39m   │ \u001b[90mInt64\u001b[39m   │\n",
       "├─────┼─────────────────────┼─────────────┼─────────┼─────────┼─────────┤\n",
       "│ 1   │ Afghanistan         │ 1           │ 0       │ 0       │ 0       │\n",
       "│ 2   │ Albania             │ 0           │ 1       │ 0       │ 1       │\n",
       "│ 3   │ Algeria             │ 0           │ 0       │ 1       │ 0       │\n",
       "│ 4   │ Andorra             │ 0           │ 1       │ 0       │ 1       │\n",
       "│ 5   │ Angola              │ 0           │ 0       │ 0       │ 0       │\n",
       "│ 6   │ Antigua and Barbuda │ 0           │ 1       │ 0       │ 1       │\n",
       "│ 7   │ Argentina           │ 0           │ 1       │ 0       │ 1       │\n",
       "│ 8   │ Armenia             │ 0           │ 1       │ 0       │ 0       │\n",
       "│ 9   │ Australia           │ 0           │ 1       │ 0       │ 1       │\n",
       "│ 10  │ Austria             │ 0           │ 1       │ 0       │ 1       │\n",
       "│ 11  │ Azerbaijan          │ 0           │ 1       │ 0       │ 0       │\n",
       "│ 12  │ Bahamas             │ 0           │ 1       │ 0       │ 1       │\n",
       "│ 13  │ Bahrain             │ 0           │ 1       │ 0       │ 0       │\n",
       "│ 14  │ Bangladesh          │ 0           │ 0       │ 0       │ 0       │\n",
       "│ 15  │ Barbados            │ 0           │ 1       │ 0       │ 1       │\n",
       "│ 16  │ Belarus             │ 0           │ 1       │ 0       │ 0       │\n",
       "│ 17  │ Belgium             │ 0           │ 1       │ 0       │ 1       │\n",
       "│ 18  │ Belize              │ 0           │ 0       │ 0       │ 0       │\n",
       "│ 19  │ Benin               │ 0           │ 0       │ 0       │ 0       │\n",
       "│ 20  │ Bhutan              │ 0           │ 0       │ 0       │ 0       │"
      ]
     },
     "execution_count": 13,
     "metadata": {},
     "output_type": "execute_result"
    }
   ],
   "source": [
    "DataFrames.head(passport_df, 20)"
   ]
  },
  {
   "cell_type": "markdown",
   "id": "ad8b6cf6",
   "metadata": {},
   "source": [
    "The value of the cells above represent:\n",
    "- 1 = no visa required for travel\n",
    "- 0 = visa required for travel or can't travel to"
   ]
  },
  {
   "cell_type": "markdown",
   "id": "ac5b83bf",
   "metadata": {},
   "source": [
    "## Modeling\n",
    "\n",
    "Let **c** represent a country. Then **x<sub>c</sub>**, a binary variable is 1 if we select **c** and 0 otherwise."
   ]
  },
  {
   "cell_type": "code",
   "execution_count": 14,
   "id": "601c0405",
   "metadata": {},
   "outputs": [],
   "source": [
    "using JuMP\n",
    "import HiGHS"
   ]
  },
  {
   "cell_type": "code",
   "execution_count": 15,
   "id": "7a2f9ba5",
   "metadata": {},
   "outputs": [],
   "source": [
    "# Set of all countries\n",
    "C = passport_df.Passport;"
   ]
  },
  {
   "cell_type": "code",
   "execution_count": 16,
   "id": "b4cb90fb",
   "metadata": {},
   "outputs": [
    {
     "data": {
      "text/plain": [
       "A JuMP Model\n",
       "Minimization problem with:\n",
       "Variables: 155\n",
       "Objective function type: AffExpr\n",
       "`AffExpr`-in-`MathOptInterface.GreaterThan{Float64}`: 155 constraints\n",
       "`VariableRef`-in-`MathOptInterface.ZeroOne`: 155 constraints\n",
       "Model mode: AUTOMATIC\n",
       "CachingOptimizer state: EMPTY_OPTIMIZER\n",
       "Solver name: HiGHS\n",
       "Names registered in the model: x"
      ]
     },
     "execution_count": 16,
     "metadata": {},
     "output_type": "execute_result"
    }
   ],
   "source": [
    "# Create a model and initialize the decision variables\n",
    "model = Model(HiGHS.Optimizer)\n",
    "range = 1:155\n",
    "@variable(model, x[C[range]], Bin)\n",
    "@objective(model, Min, sum(x))\n",
    "@constraint(model, [d in C[range]], passport_df[range, d]' * x >= 1)\n",
    "model"
   ]
  },
  {
   "cell_type": "code",
   "execution_count": null,
   "id": "36856ac4",
   "metadata": {},
   "outputs": [],
   "source": [
    "# Now optimize\n",
    "optimize!(model)"
   ]
  },
  {
   "cell_type": "code",
   "execution_count": null,
   "id": "200d2b16",
   "metadata": {},
   "outputs": [],
   "source": [
    "solution_summary(model)"
   ]
  },
  {
   "cell_type": "code",
   "execution_count": null,
   "id": "2c88d479",
   "metadata": {},
   "outputs": [],
   "source": [
    "# Solution\n",
    "println(\"Minimum number of passports needed: \", objective_value(model))"
   ]
  },
  {
   "cell_type": "code",
   "execution_count": null,
   "id": "bcdd0f72",
   "metadata": {},
   "outputs": [],
   "source": [
    "println(\"Optimal passports:\")\n",
    "for c in C[range]\n",
    "    if value(x[c]) > 0.5\n",
    "        println(\" * \", c)\n",
    "    end\n",
    "end"
   ]
  },
  {
   "cell_type": "code",
   "execution_count": null,
   "id": "fb378a98",
   "metadata": {},
   "outputs": [],
   "source": []
  }
 ],
 "metadata": {
  "kernelspec": {
   "display_name": "Julia 1.7.2",
   "language": "julia",
   "name": "julia-1.7"
  },
  "language_info": {
   "file_extension": ".jl",
   "mimetype": "application/julia",
   "name": "julia",
   "version": "1.7.2"
  }
 },
 "nbformat": 4,
 "nbformat_minor": 5
}
