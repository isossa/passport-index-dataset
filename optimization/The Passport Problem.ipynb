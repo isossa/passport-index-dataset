{
 "cells": [
  {
   "cell_type": "markdown",
   "id": "93523dfd",
   "metadata": {},
   "source": [
    "### Disclosure: A tutorial from [jump.dev](https://jump.dev/JuMP.jl/stable/tutorials/getting_started/getting_started_with_data_and_plotting/#Example:-the-passport-problem)"
   ]
  },
  {
   "cell_type": "code",
   "execution_count": 2,
   "id": "bf0617c0",
   "metadata": {},
   "outputs": [
    {
     "data": {
      "text/plain": [
       "\"C:\\\\Users\\\\isossa\\\\Documents\\\\Mathematical Programming\\\\Passport Index Dataset\\\\passport-index-dataset\\\\optimization\""
      ]
     },
     "execution_count": 2,
     "metadata": {},
     "output_type": "execute_result"
    }
   ],
   "source": [
    "@__DIR__"
   ]
  },
  {
   "cell_type": "code",
   "execution_count": null,
   "id": "5c722560",
   "metadata": {},
   "outputs": [],
   "source": []
  }
 ],
 "metadata": {
  "kernelspec": {
   "display_name": "Julia 1.7.2",
   "language": "julia",
   "name": "julia-1.7"
  },
  "language_info": {
   "file_extension": ".jl",
   "mimetype": "application/julia",
   "name": "julia",
   "version": "1.7.2"
  }
 },
 "nbformat": 4,
 "nbformat_minor": 5
}
